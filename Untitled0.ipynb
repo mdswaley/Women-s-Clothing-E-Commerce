from google.colab import files
uploaded = files.upload()


import pandas as pd
import io
df = pd.read_csv(io.BytesIO(uploaded['Womens Clothing E-Commerce Reviews.csv']))
print(df)

df.isnull()

df.describe()

import matplotlib.pyplot as plt
plt.xlabel('Age:')
plt.ylabel('No of women:')
plt.title('Clothing e-commerce with different Age groups')
plt.hist(df['Age'])

import seaborn as sns
import matplotlib.pyplot as plt
# Assuming df is your DataFrame containing "Age" and "Class Name" columns
plt.figure(dpi=720, figsize=(10, 6))
sns.scatterplot(data=df, x="Age", y="Class Name", hue="Class Name")
plt.show()

x1=df['Rating']
y1=df['Age']
plt.hist2d(y1,x1)

plt.figure(dpi=720, figsize=(10, 8))
sns.set_style("darkgrid")
sns.barplot(data=df, x='Rating', y='Positive Feedback Count', hue='Class Name')
plt.show()

sns.pairplot(df,hue='Division Name')
